{
 "cells": [
  {
   "cell_type": "markdown",
   "id": "2f5cc320-72c2-499d-947b-cae9328985ad",
   "metadata": {},
   "source": [
    "# Jupyter Notebook Assessment"
   ]
  },
  {
   "cell_type": "markdown",
   "id": "a315cc47-3d8f-4441-acba-220913d05db7",
   "metadata": {},
   "source": [
    "This notebook contains the assessment test for coursera Peer-graded Assignment"
   ]
  },
  {
   "cell_type": "markdown",
   "id": "df957216-7bbc-4f2c-966b-21cbd48e9067",
   "metadata": {},
   "source": [
    "### Data science languages\n",
    "\n",
    "* Python: The primary language used throughout the course for various data science tasks, including data analysis, visualization, and machine learning. Key Python libraries taught include Pandas, NumPy, Matplotlib, Seaborn, Folium, Scikit-learn, and SciPy.\n",
    "\n",
    "* SQL: Used for database management and data manipulation. The course covers basic to advanced SQL queries, including data extraction, transformation, and analysis using SQL within Python environments.\n",
    "\n",
    "* R: RStudio is introduced as a tool for data analysis and visualization, although the primary focus remains on Python."
   ]
  },
  {
   "cell_type": "markdown",
   "id": "95255602-7d77-454e-9982-de0093fd3f1d",
   "metadata": {},
   "source": [
    "### Data Science libraries:\n",
    "\n",
    "* Pandas: Used for data manipulation and analysis, providing data structures and functions needed to manipulate structured data seamlessly.\n",
    "\n",
    "* NumPy: Fundamental package for scientific computing with Python, providing support for arrays and matrices, along with a large library of mathematical functions.\n",
    "\n",
    "* Matplotlib: A plotting library used for creating static, interactive, and animated visualizations in Python.\n",
    "\n",
    "* Seaborn: Built on top of Matplotlib, it provides a high-level interface for drawing attractive and informative statistical graphics.\n",
    "\n",
    "* Folium: Used for visualizing geospatial data, enabling the creation of interactive maps.\n",
    "\n",
    "* Scikit-learn: A machine learning library that supports a range of supervised and unsupervised learning algorithms via a consistent interface in Python.\n",
    "\n",
    "* SciPy: A library used for scientific and technical computing, building on NumPy to provide a large number of higher-level functions.\n",
    "\n",
    "* Plotly: A graphing library that makes interactive, publication-quality graphs online.\n",
    "\n",
    "* Beautiful Soup: A library for web scraping purposes to pull data out of HTML and XML files.\n",
    "\n",
    "* Dash: A productive framework for building web applications in Python, especially for data visualization."
   ]
  },
  {
   "cell_type": "markdown",
   "id": "c04a69af-2d60-42a2-8abb-5c6bf8756441",
   "metadata": {},
   "source": [
    "### Data Science Tools\n",
    "\n",
    "| Tool          | Description                                                                                 |\n",
    "|---------------|---------------------------------------------------------------------------------------------|\n",
    "| **Python**    | A high-level programming language widely used in data science for data manipulation, analysis, and machine learning. |\n",
    "| **SQL**       | A domain-specific language used in programming and designed for managing data held in a relational database management system. |\n",
    "| **R**         | A programming language and software environment used for statistical computing and graphics. |\n",
    "| **Jupyter**   | An open-source web application that allows you to create and share documents that contain live code, equations, visualizations, and narrative text. |\n",
    "| **Pandas**    | A Python library providing data structures and data analysis tools.                          |\n",
    "| **NumPy**     | A library for the Python programming language, adding support for large, multi-dimensional arrays and matrices. |\n",
    "| **Matplotlib**| A plotting library for the Python programming language and its numerical mathematics extension NumPy. |\n",
    "| **Seaborn**   | A Python visualization library based on Matplotlib that provides a high-level interface for drawing attractive statistical graphics. |\n",
    "| **Scikit-learn** | A free software machine learning library for the Python programming language.              |\n",
    "| **SciPy**     | An open-source Python library used for scientific and technical computing.                   |\n",
    "| **Plotly**    | A graphing library that makes interactive, publication-quality graphs online.                |\n",
    "| **Dash**      | A productive Python framework for building web applications.                                 |\n",
    "| **Beautiful Soup** | A library for web scraping purposes to pull the data out of HTML and XML files.           |\n",
    "| **Folium**    | A library for visualizing geospatial data.                                                   |\n",
    "| **GitHub**    | A provider of Internet hosting for software development and version control using Git.       |\n",
    "| **IBM Cloud** | A set of cloud computing services for business offered by the information technology company IBM. |\n",
    "| **RStudio**   | An integrated development environment (IDE) for R.                                           |\n",
    "\n"
   ]
  },
  {
   "cell_type": "markdown",
   "id": "0da8e13b-9546-4e80-b051-ad6a41442302",
   "metadata": {},
   "source": [
    "### Arithmetic Expressions\n",
    "\n",
    "Arithmetic expressions are mathematical statements that include numbers, operators, and sometimes parentheses to indicate the order of operations. Here are some basic examples of arithmetic expressions and their evaluations:\n",
    "\n",
    "| Expression          | Description                             | Result   |\n",
    "|---------------------|-----------------------------------------|----------|\n",
    "| `2 + 3`             | Addition of two numbers                 | `5`      |\n",
    "| `10 - 4`            | Subtraction of two numbers              | `6`      |\n",
    "| `5 * 3`             | Multiplication of two numbers           | `15`     |\n",
    "| `12 / 4`            | Division of two numbers                 | `3`      |\n",
    "| `5 ** 2`            | Exponentiation (5 raised to the power 2)| `25`     |\n",
    "| `10 % 3`            | Modulus (remainder of 10 divided by 3)  | `1`      |\n",
    "| `(2 + 3) * 4`       | Parentheses change the order of operations | `20`  |\n",
    "| `10 - (2 * 3)`      | Nested operations                       | `4`      |\n",
    "\n",
    "Arithmetic expressions are fundamental in programming and mathematics as they form the basis for more complex calculations and logic. Understanding how to construct and evaluate these expressions is essential for problem-solving in various fields.\n"
   ]
  },
  {
   "cell_type": "code",
   "execution_count": 1,
   "id": "23c3de54-983d-45ac-9f54-64943372910b",
   "metadata": {},
   "outputs": [
    {
     "name": "stdout",
     "output_type": "stream",
     "text": [
      "Multiplication of 3 and 7 is: 21\n",
      "Addition of 5 and 2 is: 7\n"
     ]
    }
   ],
   "source": [
    "# Define the numbers\n",
    "a = 3\n",
    "b = 7\n",
    "c = 5\n",
    "d = 2\n",
    "\n",
    "# Perform multiplication\n",
    "result_multiplication = a * b\n",
    "\n",
    "# Perform addition\n",
    "result_addition = c + d\n",
    "\n",
    "# Print the results\n",
    "print(\"Multiplication of\", a, \"and\", b, \"is:\", result_multiplication)\n",
    "print(\"Addition of\", c, \"and\", d, \"is:\", result_addition)\n"
   ]
  },
  {
   "cell_type": "code",
   "execution_count": 2,
   "id": "19696870-66e1-412d-837b-0dba7773d56d",
   "metadata": {},
   "outputs": [
    {
     "name": "stdout",
     "output_type": "stream",
     "text": [
      "120 minutes is equal to 2.0 hours\n"
     ]
    }
   ],
   "source": [
    "# Define the number of minutes\n",
    "minutes = 120\n",
    "\n",
    "# Convert minutes to hours\n",
    "hours = minutes / 60\n",
    "\n",
    "# Print the result\n",
    "print(minutes, \"minutes is equal to\", hours, \"hours\")"
   ]
  },
  {
   "cell_type": "markdown",
   "id": "9cddb445-6859-4e6a-813a-1cb485bf0d36",
   "metadata": {},
   "source": [
    "### Objectives\n",
    "\n",
    "- Understand the basics of Python programming.\n",
    "- Learn how to perform data manipulation using Pandas.\n",
    "- Explore data visualization techniques with Matplotlib and Seaborn.\n",
    "- Gain proficiency in using SQL for data querying and management.\n",
    "- Develop skills in applying machine learning algorithms using Scikit-learn.\n",
    "- Master the use of Jupyter Notebooks for documenting and sharing analysis.\n",
    "- Get hands-on experience with real-world data sets and practical projects.\n"
   ]
  },
  {
   "cell_type": "markdown",
   "id": "d96fd4c4-8994-4722-b190-6d01211ac791",
   "metadata": {},
   "source": [
    "### Author\n",
    "\n",
    "**Vishnu Viswanath**\n"
   ]
  }
 ],
 "metadata": {
  "kernelspec": {
   "display_name": "Python 3 (ipykernel)",
   "language": "python",
   "name": "python3"
  },
  "language_info": {
   "codemirror_mode": {
    "name": "ipython",
    "version": 3
   },
   "file_extension": ".py",
   "mimetype": "text/x-python",
   "name": "python",
   "nbconvert_exporter": "python",
   "pygments_lexer": "ipython3",
   "version": "3.11.7"
  }
 },
 "nbformat": 4,
 "nbformat_minor": 5
}
